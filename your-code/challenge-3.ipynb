{
 "cells": [
  {
   "cell_type": "markdown",
   "metadata": {},
   "source": [
    "# Challenge 3\n",
    "\n",
    "In this challenge we will work on the `Orders` data set. In your work you will apply the thinking process and workflow we showed you in Challenge 2.\n",
    "\n",
    "You are serving as a Business Intelligence Analyst at the headquarter of an international fashion goods chain store. Your boss today asked you to do two things for her:\n",
    "\n",
    "**First, identify two groups of customers from the data set.** The first group is **VIP Customers** whose **aggregated expenses** at your global chain stores are **above the 95th percentile** (aka. 0.95 quantile). The second group is **Preferred Customers** whose **aggregated expenses** are **between the 75th and 95th percentile**.\n",
    "\n",
    "**Second, identify which country has the most of your VIP customers, and which country has the most of your VIP+Preferred Customers combined.**"
   ]
  },
  {
   "cell_type": "markdown",
   "metadata": {},
   "source": [
    "## Q1: How to identify VIP & Preferred Customers?\n",
    "\n",
    "We start by importing all the required libraries:"
   ]
  },
  {
   "cell_type": "code",
   "execution_count": null,
   "metadata": {},
   "outputs": [],
   "source": [
    "# import required libraries\n",
    "import pandas as pd\n",
    "import numpy as np\n",
    "from sqlalchemy import create_engine\n",
    "import pymysql\n"
   ]
  },
  {
   "cell_type": "markdown",
   "metadata": {},
   "source": [
    "Next, import `Orders` from Ironhack's database into a dataframe variable called `orders`. Print the head of `orders` to overview the data:"
   ]
  },
  {
   "cell_type": "code",
   "execution_count": null,
   "metadata": {},
   "outputs": [],
   "source": [
    "# your code here\n",
    "\n",
    "# import data set from Ironhack's database\n",
    "\n",
    "##CONNECTION\n",
    "driver = 'mysql+pymysql'\n",
    "ip = '34.65.10.136'\n",
    "username = 'data-students'\n",
    "password = 'iR0nH@cK-D4T4B4S3'\n",
    "db = 'orders'\n",
    "connection_string  = f'{driver}://{username}:{password}@{ip}/{db}'\n",
    "engine = create_engine(connection_string)\n",
    "\n",
    "\n",
    "\n",
    "#######################  WHICH TABLES WE WANT TO CHOOSE    #######################\n",
    "\n",
    "\n",
    "query = 'SELECT * from orders'\n",
    "orders = pd.read_sql(query,engine)\n",
    "orders.head()"
   ]
  },
  {
   "cell_type": "markdown",
   "metadata": {},
   "source": [
    "---\n",
    "\n",
    "\"Identify VIP and Preferred Customers\" is the non-technical goal of your boss. You need to translate that goal into technical languages that data analysts use:\n",
    "\n",
    "## How to label customers whose aggregated `amount_spent` is in a given quantile range?\n"
   ]
  },
  {
   "cell_type": "markdown",
   "metadata": {},
   "source": [
    "We break down the main problem into several sub problems:\n",
    "\n",
    "#### Sub Problem 1: How to aggregate the  `amount_spent` for unique customers?\n",
    "\n",
    "#### Sub Problem 2: How to select customers whose aggregated `amount_spent` is in a given quantile range?\n",
    "\n",
    "#### Sub Problem 3: How to label selected customers as \"VIP\" or \"Preferred\"?\n",
    "\n",
    "*Note: If you want to break down the main problem in a different way, please feel free to revise the sub problems above.*\n",
    "\n",
    "Now in the workspace below, tackle each of the sub problems using the iterative problem solving workflow. Insert cells as necessary to write your codes and explain your steps."
   ]
  },
  {
   "cell_type": "markdown",
   "metadata": {},
   "source": [
    "**Sub Problem 1: How to aggregate the  `amount_spent` for unique customers?**\n"
   ]
  },
  {
   "cell_type": "code",
   "execution_count": null,
   "metadata": {},
   "outputs": [],
   "source": [
    "customers = orders.groupby(orders.CustomerID).sum()\n",
    "customers.head()"
   ]
  },
  {
   "cell_type": "markdown",
   "metadata": {},
   "source": [
    "**Sub Problem 2: How to select customers whose aggregated `amount_spent` is in a given quantile range?**"
   ]
  },
  {
   "cell_type": "code",
   "execution_count": null,
   "metadata": {},
   "outputs": [],
   "source": [
    "per_VIP = customers.amount_spent.quantile(0.95)\n",
    "print(per_VIP)\n",
    "\n",
    "per_preferred= customers.amount_spent.quantile(0.75)\n",
    "print(per_preferred)"
   ]
  },
  {
   "cell_type": "markdown",
   "metadata": {},
   "source": [
    "**Sub Problem 3: How to label selected customers as \"VIP\" or \"Preferred\"?**"
   ]
  },
  {
   "cell_type": "markdown",
   "metadata": {},
   "source": [
    "*VIP CUSTOMERS*"
   ]
  },
  {
   "cell_type": "code",
   "execution_count": null,
   "metadata": {},
   "outputs": [],
   "source": [
    "VIP = customers.loc[customers.amount_spent > per_VIP].sort_values('amount_spent', ascending = False)\n",
    "print(VIP.shape)##number of VIP customer\n",
    "VIP.head()\n"
   ]
  },
  {
   "cell_type": "markdown",
   "metadata": {},
   "source": [
    "*PREFERRED CUSTOMERS*"
   ]
  },
  {
   "cell_type": "code",
   "execution_count": null,
   "metadata": {},
   "outputs": [],
   "source": [
    "preferred = customers.loc[(customers.amount_spent > per_preferred) & (customers.amount_spent < per_VIP)].sort_values('amount_spent', ascending = False)\n",
    "print(preferred.shape) ##number of preferred customer\n",
    "preferred.head()\n"
   ]
  },
  {
   "cell_type": "markdown",
   "metadata": {},
   "source": [
    "Now we'll leave it to you to solve Q2 & Q3, which you can leverage from your solution for Q1:\n",
    "\n",
    "## Q2: How to identify which country has the most VIP Customers?"
   ]
  },
  {
   "cell_type": "markdown",
   "metadata": {},
   "source": [
    "Merge two tables with the information requested."
   ]
  },
  {
   "cell_type": "code",
   "execution_count": null,
   "metadata": {},
   "outputs": [],
   "source": [
    "count_VIP = VIP[['amount_spent']]  #modify the VIP customers table to show just the amount_spent  (customerID is the index)\n",
    "\n",
    "count_COUNTRY = orders[['Country','CustomerID']]      #modify the main orders table to show just the country and customerID .\n",
    "\n",
    "\n",
    "\n"
   ]
  },
  {
   "cell_type": "markdown",
   "metadata": {},
   "source": [
    "1. make ther merge\n",
    "\n",
    "\n",
    "2. group by the Country\n",
    "\n",
    "\n",
    "3. sort by #CustomerID"
   ]
  },
  {
   "cell_type": "code",
   "execution_count": null,
   "metadata": {},
   "outputs": [],
   "source": [
    "country_VIP = count_COUNTRY.merge(count_VIP,how = 'inner', on = 'CustomerID')\n",
    "country_VIP = country_VIP.groupby(country_VIP.Country).sum()\n",
    "\n",
    "country_VIP = country_VIP.sort_values('CustomerID',ascending =  False)\n",
    "\n",
    "country_VIP.head()"
   ]
  },
  {
   "cell_type": "markdown",
   "metadata": {},
   "source": [
    "**the count with more VIP customers are from UK**"
   ]
  },
  {
   "cell_type": "markdown",
   "metadata": {},
   "source": [
    "## Q3: How to identify which country has the most VIP+Preferred Customers combined?"
   ]
  },
  {
   "cell_type": "markdown",
   "metadata": {},
   "source": [
    "Merge the three tables with the information requested:\n",
    "\n",
    "    1.VIP table\n",
    "    \n",
    "    2.Preferred table\n",
    "    \n",
    "    3.Orders with customersID and Country"
   ]
  },
  {
   "cell_type": "code",
   "execution_count": null,
   "metadata": {},
   "outputs": [],
   "source": [
    "count_VIP = VIP[['amount_spent']]  #modify the VIP customers table to show just the amount_spent  (customerID is the index)\n",
    "\n",
    "count_COUNTRY = orders[['Country','CustomerID']]      #modify the main orders table to show just the country and customerID .\n",
    "\n",
    "count_preferred = preferred[['amount_spent']]     #modify the preferred customers table to show just the amount_spent(customerID is the index)\n",
    "\n",
    "\n",
    "count_preferred.head()"
   ]
  },
  {
   "cell_type": "markdown",
   "metadata": {},
   "source": [
    "1. make ther merge Country_VIP (from the Q2) with the preferred one.\n",
    "\n",
    "\n",
    "\n",
    "2. sort by #CustomerID"
   ]
  },
  {
   "cell_type": "code",
   "execution_count": null,
   "metadata": {},
   "outputs": [],
   "source": [
    "count_preferred = count_preferred.reset_index()"
   ]
  },
  {
   "cell_type": "code",
   "execution_count": null,
   "metadata": {},
   "outputs": [],
   "source": [
    "country_VIP = count_COUNTRY.merge(count_VIP, how = 'inner', on = 'CustomerID')\n",
    "country_preferred = count_COUNTRY.merge(count_preferred, how = 'inner', on = 'CustomerID')\n",
    "#country_VIP_preferred = country_VIP.join(count_preferred ,how='outer', on='CustomerID', lsuffix='_left', rsuffix='_right')\n",
    "\n",
    "country_VIP_preferred = pd.concat([country_VIP, country_preferred])\n",
    "\n",
    "country_VIP_preferred = country_VIP_preferred.groupby(country_VIP_preferred.Country).sum().sort_values('CustomerID', ascending = False)\n",
    "\n",
    "\n",
    "country_VIP_preferred.head()\n",
    "\n",
    "\n",
    "\n"
   ]
  },
  {
   "cell_type": "markdown",
   "metadata": {},
   "source": [
    "**the count with more VIP+ preferred customers are from UK**"
   ]
  },
  {
   "cell_type": "code",
   "execution_count": null,
   "metadata": {},
   "outputs": [],
   "source": []
  }
 ],
 "metadata": {
  "kernelspec": {
   "display_name": "Python 3",
   "language": "python",
   "name": "python3"
  },
  "language_info": {
   "codemirror_mode": {
    "name": "ipython",
    "version": 3
   },
   "file_extension": ".py",
   "mimetype": "text/x-python",
   "name": "python",
   "nbconvert_exporter": "python",
   "pygments_lexer": "ipython3",
   "version": "3.7.3"
  }
 },
 "nbformat": 4,
 "nbformat_minor": 2
}
